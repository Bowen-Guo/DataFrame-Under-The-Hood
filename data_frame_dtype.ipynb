{
  "cells": [
    {
      "metadata": {
        "trusted": true
      },
      "cell_type": "code",
      "source": "import sys\nimport pandas as pd",
      "execution_count": 48,
      "outputs": []
    },
    {
      "metadata": {
        "trusted": true
      },
      "cell_type": "code",
      "source": "\"\"\"\nCreate DataFrame df\n\"\"\"\ndictionary = {\n    'int': [1, 2, 3],\n    'float': [4.0, 5.0, 6.0],\n    'str': ['a', 'b', 'c'],\n    'bool': [True, False, True],\n    'datetime': [pd.Timestamp('20190510'), pd.Timestamp('20190511'), pd.Timestamp('20190512')],\n    'timedelta': [pd.Timedelta(days=1), pd.Timedelta(days=2), pd.Timedelta(days=3)],\n    'category': pd.Series([0, 1, 4], dtype=\"category\")\n}\ndf = pd.DataFrame(dictionary)",
      "execution_count": 50,
      "outputs": []
    },
    {
      "metadata": {},
      "cell_type": "markdown",
      "source": "#### What is dtype?\n#### Each column in a DataFrame has a specific type, denoted as the 'dtype'."
    },
    {
      "metadata": {
        "trusted": true
      },
      "cell_type": "code",
      "source": "\"\"\"\nDisplay the dtypes of df\n\"\"\"\ndf.dtypes",
      "execution_count": 44,
      "outputs": [
        {
          "output_type": "execute_result",
          "execution_count": 44,
          "data": {
            "text/plain": "int                    int64\nfloat                float64\nstr                   object\nbool                    bool\ndatetime      datetime64[ns]\ntimedelta    timedelta64[ns]\ncategory            category\ndtype: object"
          },
          "metadata": {}
        }
      ]
    },
    {
      "metadata": {},
      "cell_type": "markdown",
      "source": "#### Columns with different dtypes consume different amounts of memory"
    },
    {
      "metadata": {
        "trusted": true
      },
      "cell_type": "code",
      "source": "\"\"\"\nDisplay the memory usage of each column of df\n\"\"\"\nfor column_name in df.columns:\n    print(f\"Memory usage of column {column_name} is {df[column_name].memory_usage(deep=True)} bytes\")",
      "execution_count": 45,
      "outputs": [
        {
          "output_type": "stream",
          "text": "Memory usage of column int is 104 bytes\nMemory usage of column float is 104 bytes\nMemory usage of column str is 278 bytes\nMemory usage of column bool is 83 bytes\nMemory usage of column datetime is 104 bytes\nMemory usage of column timedelta is 104 bytes\nMemory usage of column category is 187 bytes\n",
          "name": "stdout"
        }
      ]
    },
    {
      "metadata": {
        "trusted": true
      },
      "cell_type": "markdown",
      "source": "#### How to detect dtype?"
    },
    {
      "metadata": {
        "trusted": true
      },
      "cell_type": "code",
      "source": "\"\"\"\nDetect df's dtypes\n\"\"\"\n\n\nfrom pandas.api.types import is_datetime64_ns_dtype, is_timedelta64_ns_dtype, is_categorical_dtype\nfrom pandas.core.dtypes.common import is_bool_dtype, is_integer_dtype, is_float_dtype, is_string_dtype\n\n\ndtype_detect_dict = {\n    'int': is_integer_dtype,\n    'float': is_float_dtype,\n    'str': is_string_dtype,\n    'bool': is_bool_dtype,\n    'datetime': is_datetime64_ns_dtype,\n    'timedelta': is_timedelta64_ns_dtype,\n    'category': is_categorical_dtype\n}\nfor column_name in df.columns:\n    if dtype_detect_dict.get(column_name)(df[column_name]):\n        print(f\"The dtype of column {column_name} is detected.\")",
      "execution_count": 57,
      "outputs": [
        {
          "output_type": "stream",
          "text": "The dtype of column int is detected.\nThe dtype of column float is detected.\nThe dtype of column str is detected.\nThe dtype of column bool is detected.\nThe dtype of column datetime is detected.\nThe dtype of column timedelta is detected.\nThe dtype of column category is detected.\n",
          "name": "stdout"
        }
      ]
    },
    {
      "metadata": {},
      "cell_type": "markdown",
      "source": "#### Trick 1 about dtype: integer column with np.nan will have the dtype of float64"
    },
    {
      "metadata": {
        "trusted": true
      },
      "cell_type": "code",
      "source": "\"\"\"\nCreate a DataFrame with integers and replace one element with np.nan\n\"\"\"\nimport numpy as np\ndf_int = pd.DataFrame({'col0': [1, 2, 3]})\nprint(f\"The dtype of column col0 is {df_int['col0'].dtype}.\")\ndf_int.iloc[0, 0] = np.nan\nprint(f\"With one np.nan element, the dtype of column col0 becomes {df_int['col0'].dtype}.\")",
      "execution_count": 66,
      "outputs": [
        {
          "output_type": "stream",
          "text": "The dtype of column col0 is int64.\nWith one np.nan element, the dtype of column col0 becomes float64.\n",
          "name": "stdout"
        }
      ]
    },
    {
      "metadata": {},
      "cell_type": "markdown",
      "source": "#### Trick 2 about dtype: a column with mixed data type will have the dtype of object"
    },
    {
      "metadata": {
        "trusted": true
      },
      "cell_type": "code",
      "source": "df_mixed = pd.DataFrame({'col0': [1, 'a', True]})\nprint(f\"The dtype of mixed-data-type column col0 is {df_mixed['col0'].dtype}.\")",
      "execution_count": 68,
      "outputs": [
        {
          "output_type": "stream",
          "text": "The dtype of mixed-data-type column col0 is object.\n",
          "name": "stdout"
        }
      ]
    }
  ],
  "metadata": {
    "kernelspec": {
      "name": "python36",
      "display_name": "Python 3.6",
      "language": "python"
    },
    "language_info": {
      "mimetype": "text/x-python",
      "nbconvert_exporter": "python",
      "name": "python",
      "pygments_lexer": "ipython3",
      "version": "3.6.6",
      "file_extension": ".py",
      "codemirror_mode": {
        "version": 3,
        "name": "ipython"
      }
    }
  },
  "nbformat": 4,
  "nbformat_minor": 2
}