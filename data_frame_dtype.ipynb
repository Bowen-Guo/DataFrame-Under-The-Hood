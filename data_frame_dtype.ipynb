{
 "cells": [
  {
   "cell_type": "code",
   "execution_count": 48,
   "metadata": {},
   "outputs": [],
   "source": [
    "import sys\n",
    "import pandas as pd"
   ]
  },
  {
   "cell_type": "code",
   "execution_count": 50,
   "metadata": {},
   "outputs": [],
   "source": [
    "\"\"\"\n",
    "Create DataFrame df\n",
    "\"\"\"\n",
    "dictionary = {\n",
    "    'int': [1, 2, 3],\n",
    "    'float': [4.0, 5.0, 6.0],\n",
    "    'str': ['a', 'b', 'c'],\n",
    "    'bool': [True, False, True],\n",
    "    'datetime': [pd.Timestamp('20190510'), pd.Timestamp('20190511'), pd.Timestamp('20190512')],\n",
    "    'timedelta': [pd.Timedelta(days=1), pd.Timedelta(days=2), pd.Timedelta(days=3)],\n",
    "    'category': pd.Series([0, 1, 4], dtype=\"category\")\n",
    "}\n",
    "df = pd.DataFrame(dictionary)"
   ]
  },
  {
   "cell_type": "markdown",
   "metadata": {},
   "source": [
    "#### What is dtype?\n",
    "#### Each column in a DataFrame has a specific type, denoted as the 'dtype'."
   ]
  },
  {
   "cell_type": "code",
   "execution_count": 44,
   "metadata": {},
   "outputs": [
    {
     "data": {
      "text/plain": [
       "int                    int64\n",
       "float                float64\n",
       "str                   object\n",
       "bool                    bool\n",
       "datetime      datetime64[ns]\n",
       "timedelta    timedelta64[ns]\n",
       "category            category\n",
       "dtype: object"
      ]
     },
     "execution_count": 44,
     "metadata": {},
     "output_type": "execute_result"
    }
   ],
   "source": [
    "\"\"\"\n",
    "Display the dtypes of df\n",
    "\"\"\"\n",
    "df.dtypes"
   ]
  },
  {
   "cell_type": "markdown",
   "metadata": {},
   "source": [
    "#### The relationship between pandas dtype and other data types are shown in the following diagram:"
   ]
  },
  {
   "cell_type": "code",
   "execution_count": 3,
   "metadata": {},
   "outputs": [
    {
     "data": {
      "text/html": [
       "<img src=\"pandas_dtype_mapping.PNG\", width=2000, height=2000>\n"
      ],
      "text/plain": [
       "<IPython.core.display.HTML object>"
      ]
     },
     "metadata": {},
     "output_type": "display_data"
    }
   ],
   "source": [
    "\"\"\"\n",
    "Display the diagram\n",
    "\"\"\"\n",
    "%%html\n",
    "<img src=\"pandas_dtype_mapping.PNG\", width=2000, height=2000>"
   ]
  },
  {
   "cell_type": "markdown",
   "metadata": {},
   "source": [
    "#### Columns with different dtypes consume different amounts of memory"
   ]
  },
  {
   "cell_type": "code",
   "execution_count": 45,
   "metadata": {},
   "outputs": [
    {
     "name": "stdout",
     "output_type": "stream",
     "text": [
      "Memory usage of column int is 104 bytes\n",
      "Memory usage of column float is 104 bytes\n",
      "Memory usage of column str is 278 bytes\n",
      "Memory usage of column bool is 83 bytes\n",
      "Memory usage of column datetime is 104 bytes\n",
      "Memory usage of column timedelta is 104 bytes\n",
      "Memory usage of column category is 187 bytes\n"
     ]
    }
   ],
   "source": [
    "\"\"\"\n",
    "Display the memory usage of each column of df\n",
    "\"\"\"\n",
    "for column_name in df.columns:\n",
    "    print(f\"Memory usage of column {column_name} is {df[column_name].memory_usage(deep=True)} bytes\")"
   ]
  },
  {
   "cell_type": "markdown",
   "metadata": {},
   "source": [
    "#### How to detect dtype?"
   ]
  },
  {
   "cell_type": "code",
   "execution_count": 57,
   "metadata": {},
   "outputs": [
    {
     "name": "stdout",
     "output_type": "stream",
     "text": [
      "The dtype of column int is detected.\n",
      "The dtype of column float is detected.\n",
      "The dtype of column str is detected.\n",
      "The dtype of column bool is detected.\n",
      "The dtype of column datetime is detected.\n",
      "The dtype of column timedelta is detected.\n",
      "The dtype of column category is detected.\n"
     ]
    }
   ],
   "source": [
    "\"\"\"\n",
    "Detect df's dtypes\n",
    "\"\"\"\n",
    "\n",
    "\n",
    "from pandas.api.types import is_datetime64_ns_dtype, is_timedelta64_ns_dtype, is_categorical_dtype\n",
    "from pandas.core.dtypes.common import is_bool_dtype, is_integer_dtype, is_float_dtype, is_string_dtype\n",
    "\n",
    "\n",
    "dtype_detect_dict = {\n",
    "    'int': is_integer_dtype,\n",
    "    'float': is_float_dtype,\n",
    "    'str': is_string_dtype,\n",
    "    'bool': is_bool_dtype,\n",
    "    'datetime': is_datetime64_ns_dtype,\n",
    "    'timedelta': is_timedelta64_ns_dtype,\n",
    "    'category': is_categorical_dtype\n",
    "}\n",
    "for column_name in df.columns:\n",
    "    if dtype_detect_dict.get(column_name)(df[column_name]):\n",
    "        print(f\"The dtype of column {column_name} is detected.\")"
   ]
  },
  {
   "cell_type": "markdown",
   "metadata": {},
   "source": [
    "#### Trick 1 about dtype: integer column with np.nan will have the dtype of float64"
   ]
  },
  {
   "cell_type": "code",
   "execution_count": 66,
   "metadata": {},
   "outputs": [
    {
     "name": "stdout",
     "output_type": "stream",
     "text": [
      "The dtype of column col0 is int64.\n",
      "With one np.nan element, the dtype of column col0 becomes float64.\n"
     ]
    }
   ],
   "source": [
    "\"\"\"\n",
    "Create a DataFrame with integers and replace one element with np.nan\n",
    "\"\"\"\n",
    "import numpy as np\n",
    "df_int = pd.DataFrame({'col0': [1, 2, 3]})\n",
    "print(f\"The dtype of column col0 is {df_int['col0'].dtype}.\")\n",
    "df_int.iloc[0, 0] = np.nan\n",
    "print(f\"With one np.nan element, the dtype of column col0 becomes {df_int['col0'].dtype}.\")"
   ]
  },
  {
   "cell_type": "markdown",
   "metadata": {},
   "source": [
    "#### Trick 2 about dtype: a column with mixed data type will have the dtype of object"
   ]
  },
  {
   "cell_type": "code",
   "execution_count": 68,
   "metadata": {},
   "outputs": [
    {
     "name": "stdout",
     "output_type": "stream",
     "text": [
      "The dtype of mixed-data-type column col0 is object.\n"
     ]
    }
   ],
   "source": [
    "df_mixed = pd.DataFrame({'col0': [1, 'a', True]})\n",
    "print(f\"The dtype of mixed-data-type column col0 is {df_mixed['col0'].dtype}.\")"
   ]
  }
 ],
 "metadata": {
  "kernelspec": {
   "display_name": "Python 3",
   "language": "python",
   "name": "python3"
  },
  "language_info": {
   "codemirror_mode": {
    "name": "ipython",
    "version": 3
   },
   "file_extension": ".py",
   "mimetype": "text/x-python",
   "name": "python",
   "nbconvert_exporter": "python",
   "pygments_lexer": "ipython3",
   "version": "3.6.8"
  }
 },
 "nbformat": 4,
 "nbformat_minor": 2
}
