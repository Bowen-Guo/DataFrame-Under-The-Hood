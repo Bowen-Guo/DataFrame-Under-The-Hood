{
 "cells": [
  {
   "cell_type": "markdown",
   "metadata": {},
   "source": [
    "#### What is pickle?\n",
    "* Pickle is a python module which converts a Python object into a byte stream, aka \"pickled\",and a byte stream back into a Python object, aka \"unpickled\".\n"
   ]
  },
  {
   "cell_type": "markdown",
   "metadata": {},
   "source": [
    "#### 1. How does pickle serialize class instance?\n",
    "\n",
    "* By default, pickle will retrieve the class and the attributes of an instance via introspection. The following code shows an implementation of this behaviour."
   ]
  },
  {
   "cell_type": "code",
   "execution_count": 2,
   "metadata": {},
   "outputs": [],
   "source": [
    "def save(obj):\n",
    "    return (obj.__class__, obj.__dict__)"
   ]
  },
  {
   "cell_type": "markdown",
   "metadata": {},
   "source": [
    "* Only the attributes of instance are pickled. The class's code and data are not pickled along with the instance. For example, **class attributes are not pickled**.\n",
    "\n",
    "    For example:"
   ]
  },
  {
   "cell_type": "code",
   "execution_count": 38,
   "metadata": {},
   "outputs": [
    {
     "name": "stdout",
     "output_type": "stream",
     "text": [
      "b'\\x80\\x03c__main__\\nFoo1\\nq\\x00)\\x81q\\x01.'\n",
      "b'\\x80\\x03c__main__\\nFoo2\\nq\\x00)\\x81q\\x01.'\n"
     ]
    }
   ],
   "source": [
    "# Define class Foo1\n",
    "class Foo1:\n",
    "    pass\n",
    "\n",
    "# Define class Foo2 with attribute attr\n",
    "class Foo2:\n",
    "    attr = 100\n",
    "\n",
    "foo1 = Foo1()\n",
    "foo2 = Foo2()\n",
    "\n",
    "# Pickle foo and foo2\n",
    "import pickle\n",
    "pickled_foo1 = pickle.dumps(foo1)\n",
    "pickled_foo2 = pickle.dumps(foo2)\n",
    "\n",
    "# Compare the pickled results\n",
    "print(pickled_foo1)\n",
    "print(pickled_foo2)"
   ]
  },
  {
   "cell_type": "markdown",
   "metadata": {},
   "source": [
    "   The only difference is the name of the class (One is \"Foo1\"  and the other is \"Foo2\"). This proves that the class attributes are not pickled. "
   ]
  },
  {
   "cell_type": "markdown",
   "metadata": {},
   "source": [
    "#### 2. How does pickle de-serialize class instance?\n",
    "* Pickle will first get the name of the class, creates an uninitialized instance and then restores the saved attributs. **The \\_\\_init\\_\\_ method by default is not invoked.** The following code shows an implementation of this behaviour."
   ]
  },
  {
   "cell_type": "code",
   "execution_count": 12,
   "metadata": {},
   "outputs": [],
   "source": [
    "def load(cls, attributes):\n",
    "    obj = cls.__new__(cls)\n",
    "    obj.__dict__.update(attributes)\n",
    "    return obj"
   ]
  },
  {
   "cell_type": "markdown",
   "metadata": {},
   "source": [
    "To prove this process, we first define a class as follows:"
   ]
  },
  {
   "cell_type": "code",
   "execution_count": 29,
   "metadata": {},
   "outputs": [
    {
     "name": "stdout",
     "output_type": "stream",
     "text": [
      "Calling method __new__\n",
      "Calling method __init__\n"
     ]
    }
   ],
   "source": [
    "# Define class Foo3\n",
    "class Foo3:\n",
    "    def __new__(cls):\n",
    "        print(\"Calling method __new__\")\n",
    "        return super().__new__(cls)\n",
    "        \n",
    "    def __init__(self):\n",
    "        print(\"Calling method __init__\")\n",
    "\n",
    "foo3 = Foo3()"
   ]
  },
  {
   "cell_type": "code",
   "execution_count": 30,
   "metadata": {},
   "outputs": [
    {
     "name": "stdout",
     "output_type": "stream",
     "text": [
      "Calling method __new__\n"
     ]
    }
   ],
   "source": [
    "# Pickle foo3\n",
    "pickled_foo3 = pickle.dumps(foo3)\n",
    "\n",
    "# Unpickle\n",
    "unpickled_foo3 = pickle.loads(pickled_foo3)"
   ]
  },
  {
   "cell_type": "markdown",
   "metadata": {},
   "source": [
    "Aha, only the \\_\\_new\\_\\_ method is called!"
   ]
  },
  {
   "cell_type": "markdown",
   "metadata": {},
   "source": [
    "* What if the \\_\\_new\\_\\_ method have arguments? The answer is to define \\_\\_getnewargs\\_\\_ method."
   ]
  },
  {
   "cell_type": "code",
   "execution_count": 34,
   "metadata": {},
   "outputs": [
    {
     "name": "stdout",
     "output_type": "stream",
     "text": [
      "Calling method __new__\n",
      "Calling method __init__\n"
     ]
    }
   ],
   "source": [
    "# Define clas Foo4\n",
    "class Foo4:\n",
    "    def __new__(cls, a, b):\n",
    "        print(\"Calling method __new__\")\n",
    "        obj = super().__new__(cls)\n",
    "        obj.a = a\n",
    "        obj.b = b\n",
    "        return obj\n",
    "    \n",
    "    def __init__(self, *args, **kwargs):\n",
    "        print(\"Calling method __init__\")\n",
    "    \n",
    "    def __getnewargs__(self):\n",
    "        return self.a, self.b\n",
    "\n",
    "foo4 = Foo4('a', 'b')"
   ]
  },
  {
   "cell_type": "code",
   "execution_count": 37,
   "metadata": {},
   "outputs": [
    {
     "name": "stdout",
     "output_type": "stream",
     "text": [
      "Calling method __new__\n",
      "a b\n"
     ]
    }
   ],
   "source": [
    "# Pickle foo3\n",
    "pickled_foo4 = pickle.dumps(foo4)\n",
    "\n",
    "# Unpickle\n",
    "unpickled_foo4 = pickle.loads(pickled_foo4)\n",
    "print(unpickled_foo4.a, unpickled_foo4.b)"
   ]
  }
 ],
 "metadata": {
  "kernelspec": {
   "display_name": "Python 3",
   "language": "python",
   "name": "python3"
  },
  "language_info": {
   "codemirror_mode": {
    "name": "ipython",
    "version": 3
   },
   "file_extension": ".py",
   "mimetype": "text/x-python",
   "name": "python",
   "nbconvert_exporter": "python",
   "pygments_lexer": "ipython3",
   "version": "3.6.8"
  }
 },
 "nbformat": 4,
 "nbformat_minor": 2
}
